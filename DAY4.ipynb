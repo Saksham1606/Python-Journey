{
  "nbformat": 4,
  "nbformat_minor": 0,
  "metadata": {
    "colab": {
      "provenance": [],
      "authorship_tag": "ABX9TyMRyiIGxvV+FX9MG5F9VqUu",
      "include_colab_link": true
    },
    "kernelspec": {
      "name": "python3",
      "display_name": "Python 3"
    },
    "language_info": {
      "name": "python"
    }
  },
  "cells": [
    {
      "cell_type": "markdown",
      "metadata": {
        "id": "view-in-github",
        "colab_type": "text"
      },
      "source": [
        "<a href=\"https://colab.research.google.com/github/Saksham1606/Python-Journey/blob/main/DAY4.ipynb\" target=\"_parent\"><img src=\"https://colab.research.google.com/assets/colab-badge.svg\" alt=\"Open In Colab\"/></a>"
      ]
    },
    {
      "cell_type": "markdown",
      "source": [
        "# IF-ELSE STATEMENT"
      ],
      "metadata": {
        "id": "rgltcF9GL_he"
      }
    },
    {
      "cell_type": "code",
      "execution_count": null,
      "metadata": {
        "colab": {
          "base_uri": "https://localhost:8080/"
        },
        "id": "-99W6u4cLtZ5",
        "outputId": "e370cde7-14d5-4ec1-d356-fbfd511640c3"
      },
      "outputs": [
        {
          "output_type": "stream",
          "name": "stdout",
          "text": [
            "absent or present:hdbv\n",
            "Invalid Input\n"
          ]
        }
      ],
      "source": [
        "status = input(\"absent or present:\",)\n",
        "if status == \"absent\":\n",
        "  print(\"CHARGE OF Rs.1000\")\n",
        "elif status == \"present\":\n",
        "  print(\"NO CHARGE\")\n",
        "else :\n",
        "  print(\"Invalid Input\")"
      ]
    },
    {
      "cell_type": "code",
      "source": [
        "age = input(\"Enter your age: \",)\n",
        "name = input(\"Enter your name: \",)\n",
        "# print(\"Name:\",name,\"and age:\",age)\n",
        "# print(f\"Name: {name} and age: {age} \")\n",
        "# print(\"Name: {} and age: {}\".format(name,age))\n"
      ],
      "metadata": {
        "colab": {
          "base_uri": "https://localhost:8080/"
        },
        "id": "Pxt9W2mwNWsz",
        "outputId": "a604ed91-a035-4c44-8d22-bd3cb703509f"
      },
      "execution_count": null,
      "outputs": [
        {
          "output_type": "stream",
          "name": "stdout",
          "text": [
            "Enter your age: 18\n",
            "Enter your name: lala ji\n",
            "Name: lala ji and age: 18\n"
          ]
        }
      ]
    },
    {
      "cell_type": "code",
      "source": [
        "num = int(input(\"Enter any number: \"))\n",
        "if num%2==0:\n",
        "  print(\"The given number is EVEN\")\n",
        "else:\n",
        "  print(\"The given number is ODD\")"
      ],
      "metadata": {
        "colab": {
          "base_uri": "https://localhost:8080/"
        },
        "id": "QloYqTWPObb1",
        "outputId": "3260bdc3-bdea-4a04-bf12-5d7b7b623289"
      },
      "execution_count": null,
      "outputs": [
        {
          "output_type": "stream",
          "name": "stdout",
          "text": [
            "Enter any number: 13\n",
            "The given number is ODD\n"
          ]
        }
      ]
    },
    {
      "cell_type": "code",
      "source": [
        "char = input(\"Enter any Alphabet: \")\n",
        "if char in ('a','e','i','o','u'):\n",
        "  print(\"The given Alphabet is a Vowel\")\n",
        "else :\n",
        "  print(\"The given Alphabet is a Consonent\")"
      ],
      "metadata": {
        "colab": {
          "base_uri": "https://localhost:8080/"
        },
        "id": "KVjPc7HCPmIl",
        "outputId": "37c0abc9-dfa7-4309-ca19-cfea3e8f7341"
      },
      "execution_count": null,
      "outputs": [
        {
          "output_type": "stream",
          "name": "stdout",
          "text": [
            "Enter any Alphabet: s\n",
            "The given Alphabet is a Consonent\n"
          ]
        }
      ]
    },
    {
      "cell_type": "code",
      "source": [
        "age = int(input(\"Enter your age: \"))\n",
        "if age < 18:\n",
        "  print(\"Not-Eligible for voting\")\n",
        "else:\n",
        "  print(\"Eligible for voting\")\n"
      ],
      "metadata": {
        "colab": {
          "base_uri": "https://localhost:8080/"
        },
        "id": "q5S83jQmQiOj",
        "outputId": "94694848-d211-4069-8c46-d31ff91ce917"
      },
      "execution_count": null,
      "outputs": [
        {
          "output_type": "stream",
          "name": "stdout",
          "text": [
            "Enter your age: 15\n",
            "Not-Eligible for voting\n"
          ]
        }
      ]
    },
    {
      "cell_type": "code",
      "source": [
        "s1 = int(input(\"Enter the length of side 1: \"))\n",
        "s2 = int(input(\"Enter the length of side 2: \"))\n",
        "s3 = int(input(\"Enter the length of side 3: \"))\n",
        "\n",
        "if s1+s2>s3 and s2+s3>s1 and s3+s1>s2:\n",
        "  print(\"FORMS A TRIANGLE\")\n",
        "else :\n",
        "  print(\"NOT FORM A TRIANGLE\")\n"
      ],
      "metadata": {
        "colab": {
          "base_uri": "https://localhost:8080/"
        },
        "id": "mHEQhevDRx1r",
        "outputId": "da2b84c8-d0e8-4f4a-ce66-0473c535d0da"
      },
      "execution_count": null,
      "outputs": [
        {
          "output_type": "stream",
          "name": "stdout",
          "text": [
            "Enter the length of side 1: 2\n",
            "Enter the length of side 2: 3\n",
            "Enter the length of side 3: 10\n",
            "NOT FORM A TRIANGLE\n"
          ]
        }
      ]
    },
    {
      "cell_type": "code",
      "source": [
        "lab_no = int(input(\"Enter your lab no. \"))\n",
        "if lab_no == 322:\n",
        "  print(\"Python Programing is going on.\")\n",
        "else :\n",
        "  print(\"C Programing is going on.\")"
      ],
      "metadata": {
        "colab": {
          "base_uri": "https://localhost:8080/"
        },
        "id": "tkek10r0TfHG",
        "outputId": "ca8027d4-e79d-447d-f6c2-a7d652c1ed3d"
      },
      "execution_count": null,
      "outputs": [
        {
          "output_type": "stream",
          "name": "stdout",
          "text": [
            "Enter your lab no. 45\n",
            "C Programing is going on.\n"
          ]
        }
      ]
    },
    {
      "cell_type": "code",
      "source": [
        "# @title Default title text\n",
        "marks = int(input(\"Enter your marks: \"))\n",
        "if marks >= 90:\n",
        "  print(\"EXCELLENT !!\")\n",
        "elif marks >= 80:\n",
        "  print(\"GRADE A\")\n",
        "elif marks >= 70:\n",
        "  print(\"GRADE B\")\n",
        "elif marks >=60:\n",
        "  print(\"GRADE C\")\n",
        "else :\n",
        "  print(\"Work Hard on yourself.\")"
      ],
      "metadata": {
        "colab": {
          "base_uri": "https://localhost:8080/"
        },
        "id": "vkpzGPwUUxXD",
        "outputId": "64fed731-5ab6-4a9c-f412-85842b6d7ce6"
      },
      "execution_count": null,
      "outputs": [
        {
          "output_type": "stream",
          "name": "stdout",
          "text": [
            "Enter your marks: 9\n",
            "Work Hard on yourself.\n"
          ]
        }
      ]
    },
    {
      "cell_type": "code",
      "source": [
        "num1 = int(input(\"Enter num1: \"))\n",
        "num2 = int(input(\"Enter num2: \"))\n",
        "num3 = int(input(\"Enter num3: \"))\n",
        "\n",
        "if num1>num2 and num1>num3 :\n",
        "  print(num1,\"is the largest.\")\n",
        "elif num2>num1 and num2>num3 :\n",
        "  print(num2, \"is the largest.\")\n",
        "elif num3>num1 and num3>num2 :\n",
        "  print(num3, \"is the largest.\")"
      ],
      "metadata": {
        "colab": {
          "base_uri": "https://localhost:8080/"
        },
        "id": "AwhKyBgbW2cj",
        "outputId": "93d27728-7f49-4026-91cf-bff4c9ebcc44"
      },
      "execution_count": null,
      "outputs": [
        {
          "output_type": "stream",
          "name": "stdout",
          "text": [
            "Enter num1: 20\n",
            "Enter num2: 30\n",
            "Enter num3: 454\n",
            "454 is the largest.\n"
          ]
        }
      ]
    },
    {
      "cell_type": "code",
      "source": [
        "num = int(input(\"Enter any number between 1 to 7: \"))\n",
        "if num == 1:\n",
        "  print(\"MONDAY\")\n",
        "elif num == 2:\n",
        "  print (\"TUESDAY\")\n",
        "elif num == 3:\n",
        "  print(\"WEDNESDAY\")\n",
        "elif num == 4:\n",
        "  print(\"THURSDAY\")\n",
        "elif num == 5:\n",
        "  print(\"FRIDAY\")\n",
        "elif num == 6:\n",
        "  print(\"SATURDAY\")\n",
        "elif num == 7:\n",
        "  print(\"SUNDAY\")\n",
        "else :\n",
        "  print(\"invalid number\")"
      ],
      "metadata": {
        "colab": {
          "base_uri": "https://localhost:8080/"
        },
        "id": "2e7A_D1cYcsq",
        "outputId": "f7767a90-e358-4798-a007-aac886508ccf"
      },
      "execution_count": null,
      "outputs": [
        {
          "output_type": "stream",
          "name": "stdout",
          "text": [
            "Enter any number between 1 to 7: 9\n",
            "invalid number\n"
          ]
        }
      ]
    },
    {
      "cell_type": "code",
      "source": [
        "year = int(input(\"Enter any year: \"))\n",
        "if year%100 == 0 and year%400 != 0:\n",
        "  print(year,\"is not a leap year.\")\n",
        "elif year % 4 == 0:\n",
        "  print(year, \"is a leap year.\")\n",
        "else :\n",
        "  print(year,\"is not a leap year.\")"
      ],
      "metadata": {
        "colab": {
          "base_uri": "https://localhost:8080/"
        },
        "id": "IjLJglMkcq5R",
        "outputId": "e4c6fe5a-8b3a-4ad8-9026-df7994145821"
      },
      "execution_count": null,
      "outputs": [
        {
          "output_type": "stream",
          "name": "stdout",
          "text": [
            "Enter any year: 1900\n",
            "1900 is not a leap year.\n"
          ]
        }
      ]
    },
    {
      "cell_type": "code",
      "source": [
        "a = int(input(\"Enter the value of a: \"))\n",
        "b = int(input(\"Enter the value of b: \"))\n",
        "c = int(input(\"Enter the value of c: \"))\n",
        "\n",
        "print(f\"Your given quadratic equation is: {a}x^2 + {b}x + {c} = 0\")\n",
        "D = ((b**2)-(4*a*c))\n",
        "\n",
        "root1 = ((-b)+(D**(1/2)))/(2*a)\n",
        "root2 = ((-b)-(D**(1/2)))/(2*a)\n",
        "\n",
        "if D>0:\n",
        "  print(\"roots are real and unequal\")\n",
        "  print(\"Roots of this equation is :\",root1,\"and\",root2)\n",
        "\n",
        "elif D == 0:\n",
        "  print(\"roots are real and equal\")\n",
        "  print(\"Roots of this equation is :\",root1)\n",
        "\n",
        "else :\n",
        "  print(\"roots are imaginary\")\n"
      ],
      "metadata": {
        "colab": {
          "base_uri": "https://localhost:8080/"
        },
        "id": "ZOUfBMbUhN_l",
        "outputId": "99888b22-b148-42dc-912c-20e16c0f920f"
      },
      "execution_count": null,
      "outputs": [
        {
          "output_type": "stream",
          "name": "stdout",
          "text": [
            "Enter the value of a: 1\n",
            "Enter the value of b: 2\n",
            "Enter the value of c: 3\n",
            "Your given quadratic equation is: 1x^2 + 2x + 3 = 0\n",
            "roots are imaginary\n",
            "Roots of this equation is : (-0.9999999999999999+1.4142135623730951j)\n"
          ]
        }
      ]
    },
    {
      "cell_type": "code",
      "source": [
        "num = input(\"Enter any number or letter: \")\n",
        "\n",
        "mylist = list(num)\n",
        "# list2 = mylist.reverse()\n",
        "if mylist == mylist[::-1]:\n",
        "  print(\"PALINDROME\")\n",
        "else :\n",
        "  print(\"NOT PALINDROME\")\n"
      ],
      "metadata": {
        "colab": {
          "base_uri": "https://localhost:8080/"
        },
        "id": "rzyEsWV3n29e",
        "outputId": "a7e3cab6-e757-4d05-f0c5-edf112f27364"
      },
      "execution_count": null,
      "outputs": [
        {
          "output_type": "stream",
          "name": "stdout",
          "text": [
            "Enter any number or letter: 123\n",
            "NOT PALINDROME\n"
          ]
        }
      ]
    },
    {
      "cell_type": "code",
      "source": [
        "num = int(input(\"Enter any number: \"))\n",
        "if num >= 10:\n",
        "  if num%10 == 0:\n",
        "    print(num,\"is divisible by 10\")\n",
        "  elif num%10 != 0:\n",
        "    print(num,\"is not divisible by 10\")\n",
        "else :\n",
        "  print(num,\"is smaller than 10\")"
      ],
      "metadata": {
        "colab": {
          "base_uri": "https://localhost:8080/"
        },
        "id": "jLpA0Xs3tL1c",
        "outputId": "d34a4290-957b-4e85-c881-f020d1fd8b0d"
      },
      "execution_count": null,
      "outputs": [
        {
          "output_type": "stream",
          "name": "stdout",
          "text": [
            "Enter any number: 205\n",
            "205 is not divisible by 10\n"
          ]
        }
      ]
    }
  ]
}