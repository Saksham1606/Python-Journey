{
  "nbformat": 4,
  "nbformat_minor": 0,
  "metadata": {
    "colab": {
      "provenance": [],
      "authorship_tag": "ABX9TyMZ/cHs6Fd4LA3BeTZr5Uai",
      "include_colab_link": true
    },
    "kernelspec": {
      "name": "python3",
      "display_name": "Python 3"
    },
    "language_info": {
      "name": "python"
    }
  },
  "cells": [
    {
      "cell_type": "markdown",
      "metadata": {
        "id": "view-in-github",
        "colab_type": "text"
      },
      "source": [
        "<a href=\"https://colab.research.google.com/github/Saksham1606/Python-Journey/blob/main/DAY5.ipynb\" target=\"_parent\"><img src=\"https://colab.research.google.com/assets/colab-badge.svg\" alt=\"Open In Colab\"/></a>"
      ]
    },
    {
      "cell_type": "markdown",
      "source": [
        "# LOOPS"
      ],
      "metadata": {
        "id": "Squ2C-fNfnOS"
      }
    },
    {
      "cell_type": "markdown",
      "source": [
        "1. WHILE LOOPS"
      ],
      "metadata": {
        "id": "togof2ZEiKEw"
      }
    },
    {
      "cell_type": "code",
      "execution_count": null,
      "metadata": {
        "colab": {
          "base_uri": "https://localhost:8080/"
        },
        "id": "5CXkjMCNYoSm",
        "outputId": "f5f5f884-5eca-4bc3-d180-448dc8894615"
      },
      "outputs": [
        {
          "output_type": "stream",
          "name": "stdout",
          "text": [
            "1\n",
            "2\n",
            "3\n",
            "4\n",
            "5\n",
            "6\n",
            "7\n",
            "8\n",
            "9\n",
            "10\n"
          ]
        }
      ],
      "source": [
        "# FORMATE OF WHILE LOOP\n",
        "\n",
        "# {assignment}\n",
        "# while {condition}:\n",
        "#   {code}\n",
        "#   {implementation}\n",
        "\n",
        "# EXAMPLE:-\n",
        "n=1\n",
        "while n<=10:\n",
        "  print(n)\n",
        "  n+=1\n",
        "\n"
      ]
    },
    {
      "cell_type": "code",
      "source": [
        "n = 1\n",
        "while n<=10:\n",
        "  print(n,end=\"\\t\")\n",
        "  n+=1"
      ],
      "metadata": {
        "colab": {
          "base_uri": "https://localhost:8080/"
        },
        "id": "YGWsmBBDjQ0H",
        "outputId": "7195857f-a52e-4cb4-bc79-7a0f33eb5103"
      },
      "execution_count": null,
      "outputs": [
        {
          "output_type": "stream",
          "name": "stdout",
          "text": [
            "1\t2\t3\t4\t5\t6\t7\t8\t9\t10\t"
          ]
        }
      ]
    },
    {
      "cell_type": "code",
      "source": [
        "n = 1\n",
        "while n <= 5:\n",
        "  print(\"Hello\", end=\"\\t\")\n",
        "  n+=1"
      ],
      "metadata": {
        "colab": {
          "base_uri": "https://localhost:8080/"
        },
        "id": "hZ-TNsmQjkgT",
        "outputId": "8647c283-c675-47a1-b002-2dfce68b61bd"
      },
      "execution_count": null,
      "outputs": [
        {
          "output_type": "stream",
          "name": "stdout",
          "text": [
            "Hello\tHello\tHello\tHello\tHello\t"
          ]
        }
      ]
    },
    {
      "cell_type": "code",
      "source": [
        "n=0\n",
        "while n<5:\n",
        "  print(\"Hello\")\n",
        "  n+=1"
      ],
      "metadata": {
        "colab": {
          "base_uri": "https://localhost:8080/"
        },
        "id": "8Jahqr72j62Z",
        "outputId": "57f9aa6c-12e7-4c13-954b-e621aac2ad12"
      },
      "execution_count": null,
      "outputs": [
        {
          "output_type": "stream",
          "name": "stdout",
          "text": [
            "Hello\n",
            "Hello\n",
            "Hello\n",
            "Hello\n",
            "Hello\n"
          ]
        }
      ]
    },
    {
      "cell_type": "code",
      "source": [
        "n= 10\n",
        "while n>0:\n",
        "  print(n)\n",
        "  n-=1"
      ],
      "metadata": {
        "colab": {
          "base_uri": "https://localhost:8080/"
        },
        "id": "ZZ1ZchMolFjF",
        "outputId": "74650ea4-aa87-47c2-8fd9-bb391699b841"
      },
      "execution_count": null,
      "outputs": [
        {
          "output_type": "stream",
          "name": "stdout",
          "text": [
            "10\n",
            "9\n",
            "8\n",
            "7\n",
            "6\n",
            "5\n",
            "4\n",
            "3\n",
            "2\n",
            "1\n"
          ]
        }
      ]
    },
    {
      "cell_type": "code",
      "source": [
        "n =1\n",
        "while n<=10:\n",
        "  print(\"2 X\",n,\"=\",n*2)\n",
        "  n+=1"
      ],
      "metadata": {
        "colab": {
          "base_uri": "https://localhost:8080/"
        },
        "id": "SseJtj82lyHE",
        "outputId": "0131025a-f25e-4591-8b81-ea42f4b3fef1"
      },
      "execution_count": null,
      "outputs": [
        {
          "output_type": "stream",
          "name": "stdout",
          "text": [
            "2 X 1 = 2\n",
            "2 X 2 = 4\n",
            "2 X 3 = 6\n",
            "2 X 4 = 8\n",
            "2 X 5 = 10\n",
            "2 X 6 = 12\n",
            "2 X 7 = 14\n",
            "2 X 8 = 16\n",
            "2 X 9 = 18\n",
            "2 X 10 = 20\n"
          ]
        }
      ]
    },
    {
      "cell_type": "code",
      "source": [
        "n = int(input(\"Enter any number: \"))\n",
        "m =1\n",
        "while m<=10:\n",
        "  print(f\"{n} X {m} = {n*m}\")\n",
        "  m+=1"
      ],
      "metadata": {
        "colab": {
          "base_uri": "https://localhost:8080/"
        },
        "id": "OuQy5uRpnKU9",
        "outputId": "ad8304b0-f7b6-4116-d67c-9dad1448fa83"
      },
      "execution_count": null,
      "outputs": [
        {
          "output_type": "stream",
          "name": "stdout",
          "text": [
            "Enter any number: 5\n",
            "5 X 1 = 5\n",
            "5 X 2 = 10\n",
            "5 X 3 = 15\n",
            "5 X 4 = 20\n",
            "5 X 5 = 25\n",
            "5 X 6 = 30\n",
            "5 X 7 = 35\n",
            "5 X 8 = 40\n",
            "5 X 9 = 45\n",
            "5 X 10 = 50\n"
          ]
        }
      ]
    },
    {
      "cell_type": "code",
      "source": [
        "%cd Test2\n"
      ],
      "metadata": {
        "colab": {
          "base_uri": "https://localhost:8080/"
        },
        "id": "Y57luqTzok0q",
        "outputId": "a8238247-8a74-4344-c83b-22bb55452722"
      },
      "execution_count": null,
      "outputs": [
        {
          "output_type": "stream",
          "name": "stdout",
          "text": [
            "/content/Test2\n"
          ]
        }
      ]
    },
    {
      "cell_type": "code",
      "source": [
        "n =1\n",
        "sum =0\n",
        "while n<=10:\n",
        "  sum+=n\n",
        "  n+=1\n",
        "print(\"The sum of numbers 1 to 10:\", sum)"
      ],
      "metadata": {
        "colab": {
          "base_uri": "https://localhost:8080/"
        },
        "id": "4-aZmf7cqKrS",
        "outputId": "a635eaa2-debf-4b98-c1bd-50b8b1061971"
      },
      "execution_count": null,
      "outputs": [
        {
          "output_type": "stream",
          "name": "stdout",
          "text": [
            "The sum of numbers 1 to 10: 55\n"
          ]
        }
      ]
    },
    {
      "cell_type": "code",
      "source": [
        "# BREAK STATEMENT\n",
        "n =1\n",
        "while 1<=5:\n",
        "  if n == 3:\n",
        "    break\n",
        "  print(n)\n",
        "  n+=1\n"
      ],
      "metadata": {
        "colab": {
          "base_uri": "https://localhost:8080/"
        },
        "id": "cdzkg9J9tinY",
        "outputId": "b7766ee9-db52-490f-97ac-b83f1cf3a6a1"
      },
      "execution_count": null,
      "outputs": [
        {
          "output_type": "stream",
          "name": "stdout",
          "text": [
            "1\n",
            "2\n"
          ]
        }
      ]
    },
    {
      "cell_type": "code",
      "source": [
        "n =1\n",
        "while n<=10:\n",
        "  if n==7:\n",
        "    print(n)\n",
        "    break\n",
        "  print(n)\n",
        "  n+=1"
      ],
      "metadata": {
        "id": "A5-7sdMoTBcT",
        "colab": {
          "base_uri": "https://localhost:8080/"
        },
        "outputId": "062b4fec-8274-4795-e3bf-093122ff9cbb"
      },
      "execution_count": null,
      "outputs": [
        {
          "output_type": "stream",
          "name": "stdout",
          "text": [
            "1\n",
            "2\n",
            "3\n",
            "4\n",
            "5\n",
            "6\n",
            "7\n"
          ]
        }
      ]
    },
    {
      "cell_type": "code",
      "source": [
        "# ELSE STATEMENT\n",
        "n = 1\n",
        "while n<=10:\n",
        "  print(n)\n",
        "  n+=1\n",
        "else :\n",
        "  print(\"Complete\")"
      ],
      "metadata": {
        "colab": {
          "base_uri": "https://localhost:8080/"
        },
        "id": "nqzlfPfxVGbD",
        "outputId": "377bd5fc-c1a6-4250-bb4c-f7dc930a9f95"
      },
      "execution_count": null,
      "outputs": [
        {
          "output_type": "stream",
          "name": "stdout",
          "text": [
            "1\n",
            "2\n",
            "3\n",
            "4\n",
            "5\n",
            "6\n",
            "7\n",
            "8\n",
            "9\n",
            "10\n",
            "Complete\n"
          ]
        }
      ]
    },
    {
      "cell_type": "code",
      "source": [
        "n = 1\n",
        "while n<=10:\n",
        "  if n==4:\n",
        "    print(n)\n",
        "    break\n",
        "  print(n)\n",
        "  n+=1\n",
        "else:\n",
        "  print(\"Complete\")"
      ],
      "metadata": {
        "colab": {
          "base_uri": "https://localhost:8080/"
        },
        "id": "vpCmzL6WWOrd",
        "outputId": "a1ac8550-f4f6-479a-93e4-836a8f809efd"
      },
      "execution_count": null,
      "outputs": [
        {
          "output_type": "stream",
          "name": "stdout",
          "text": [
            "1\n",
            "2\n",
            "3\n",
            "4\n"
          ]
        }
      ]
    },
    {
      "cell_type": "markdown",
      "source": [
        "2. **FOR** **LOOPS**"
      ],
      "metadata": {
        "id": "nf0sQMXsWzib"
      }
    },
    {
      "cell_type": "code",
      "source": [
        "for n in range(0,5):\n",
        "  print(n)"
      ],
      "metadata": {
        "colab": {
          "base_uri": "https://localhost:8080/"
        },
        "id": "rp7MW5X1W2IT",
        "outputId": "64afe765-ed7d-4f7e-d507-36472cf097fe"
      },
      "execution_count": null,
      "outputs": [
        {
          "output_type": "stream",
          "name": "stdout",
          "text": [
            "0\n",
            "1\n",
            "2\n",
            "3\n",
            "4\n"
          ]
        }
      ]
    },
    {
      "cell_type": "code",
      "source": [
        "for n in range(1,7):\n",
        "  print(n)"
      ],
      "metadata": {
        "colab": {
          "base_uri": "https://localhost:8080/"
        },
        "id": "hB7SymwEYBEr",
        "outputId": "0a89c37f-dba6-4b7b-97cc-9d0578373153"
      },
      "execution_count": null,
      "outputs": [
        {
          "output_type": "stream",
          "name": "stdout",
          "text": [
            "1\n",
            "2\n",
            "3\n",
            "4\n",
            "5\n",
            "6\n"
          ]
        }
      ]
    },
    {
      "cell_type": "code",
      "source": [
        "for n in range(5,0,-1):\n",
        "  print(n)"
      ],
      "metadata": {
        "colab": {
          "base_uri": "https://localhost:8080/"
        },
        "id": "ptoU9agoYIcb",
        "outputId": "082f224e-51e8-4c7f-85fb-79042f8e2613"
      },
      "execution_count": null,
      "outputs": [
        {
          "output_type": "stream",
          "name": "stdout",
          "text": [
            "5\n",
            "4\n",
            "3\n",
            "2\n",
            "1\n"
          ]
        }
      ]
    },
    {
      "cell_type": "code",
      "source": [
        "for n in range(0,10):\n",
        "  print(\"Saksham\", end=\"\\t\")"
      ],
      "metadata": {
        "colab": {
          "base_uri": "https://localhost:8080/"
        },
        "id": "3BLEDuvjZQE8",
        "outputId": "ac1a23ae-18ba-453f-bcca-7afdda4c4fae"
      },
      "execution_count": null,
      "outputs": [
        {
          "output_type": "stream",
          "name": "stdout",
          "text": [
            "Saksham\tSaksham\tSaksham\tSaksham\tSaksham\tSaksham\tSaksham\tSaksham\tSaksham\tSaksham\t"
          ]
        }
      ]
    },
    {
      "cell_type": "code",
      "source": [
        "for n in range(1,11):\n",
        "  print(\"2 X\",n,\"=\", n*2)"
      ],
      "metadata": {
        "colab": {
          "base_uri": "https://localhost:8080/"
        },
        "id": "v5Q7IYQ2Zmnz",
        "outputId": "2bc693fb-7cde-4e3a-f727-3ab4534dfdd6"
      },
      "execution_count": null,
      "outputs": [
        {
          "output_type": "stream",
          "name": "stdout",
          "text": [
            "2 X 1 = 2\n",
            "2 X 2 = 4\n",
            "2 X 3 = 6\n",
            "2 X 4 = 8\n",
            "2 X 5 = 10\n",
            "2 X 6 = 12\n",
            "2 X 7 = 14\n",
            "2 X 8 = 16\n",
            "2 X 9 = 18\n",
            "2 X 10 = 20\n"
          ]
        }
      ]
    },
    {
      "cell_type": "code",
      "source": [
        "n = int(input(\"Enter any number: \"))\n",
        "for i in range(1,11):\n",
        "  print(n*i)"
      ],
      "metadata": {
        "colab": {
          "base_uri": "https://localhost:8080/"
        },
        "id": "UXNys0fXZ8Le",
        "outputId": "e78b3236-1174-4caf-8b7a-3248c9fad027"
      },
      "execution_count": null,
      "outputs": [
        {
          "output_type": "stream",
          "name": "stdout",
          "text": [
            "Enter any number: 11\n",
            "11\n",
            "22\n",
            "33\n",
            "44\n",
            "55\n",
            "66\n",
            "77\n",
            "88\n",
            "99\n",
            "110\n"
          ]
        }
      ]
    },
    {
      "cell_type": "code",
      "source": [
        "list = [25, 30.03, 'ram', True]\n",
        "a = len(list)\n",
        "for a in range(0,a):\n",
        "  print(list[a])\n"
      ],
      "metadata": {
        "id": "R8-GXu07aXAG",
        "colab": {
          "base_uri": "https://localhost:8080/"
        },
        "outputId": "0ccaa87f-08d3-4653-c094-c917ff877bab"
      },
      "execution_count": 2,
      "outputs": [
        {
          "output_type": "stream",
          "name": "stdout",
          "text": [
            "25\n",
            "30.03\n",
            "ram\n",
            "True\n"
          ]
        }
      ]
    },
    {
      "cell_type": "code",
      "source": [
        "list1 = [25,30.3,'Ram',True]\n",
        "n=0\n",
        "while n<len(list1):\n",
        "  print(list1[n])\n",
        "  n+=1"
      ],
      "metadata": {
        "colab": {
          "base_uri": "https://localhost:8080/"
        },
        "id": "PjMxaqHcdXXC",
        "outputId": "b3c9dee1-1c5c-47f2-c838-f895204905b5"
      },
      "execution_count": 1,
      "outputs": [
        {
          "output_type": "stream",
          "name": "stdout",
          "text": [
            "25\n",
            "30.3\n",
            "Ram\n",
            "True\n"
          ]
        }
      ]
    },
    {
      "cell_type": "code",
      "source": [
        "tuple1 = (1, 1.2, \"Raja\", True)\n",
        "for n in range(0,len(tuple1)):\n",
        "  print(tuple1[n])"
      ],
      "metadata": {
        "colab": {
          "base_uri": "https://localhost:8080/"
        },
        "id": "Mr-AmkTkk5pw",
        "outputId": "9ba71d24-3ff8-4feb-a031-63e6d5074943"
      },
      "execution_count": 3,
      "outputs": [
        {
          "output_type": "stream",
          "name": "stdout",
          "text": [
            "1\n",
            "1.2\n",
            "Raja\n",
            "True\n"
          ]
        }
      ]
    },
    {
      "cell_type": "code",
      "source": [
        "tuple1 = (1, 1.2, \"Raja\", True)\n",
        "n=0\n",
        "while n<len(tuple1):\n",
        "  print(tuple1[n])\n",
        "  n+=1"
      ],
      "metadata": {
        "colab": {
          "base_uri": "https://localhost:8080/"
        },
        "id": "BU-5NmqGk_Re",
        "outputId": "e96a08dc-a577-4cef-b653-308046577efe"
      },
      "execution_count": 4,
      "outputs": [
        {
          "output_type": "stream",
          "name": "stdout",
          "text": [
            "1\n",
            "1.2\n",
            "Raja\n",
            "True\n"
          ]
        }
      ]
    },
    {
      "cell_type": "code",
      "source": [
        "for n in range (0,5):\n",
        "  print(n)\n",
        "else :\n",
        "  print(\"Complete\")"
      ],
      "metadata": {
        "colab": {
          "base_uri": "https://localhost:8080/"
        },
        "id": "gD3nU2yKlHlU",
        "outputId": "100991d2-0629-4577-d05c-acbf92612ca7"
      },
      "execution_count": 5,
      "outputs": [
        {
          "output_type": "stream",
          "name": "stdout",
          "text": [
            "0\n",
            "1\n",
            "2\n",
            "3\n",
            "4\n",
            "Complete\n"
          ]
        }
      ]
    },
    {
      "cell_type": "code",
      "source": [
        "for n in range(7):\n",
        "  if n ==5:\n",
        "    continue\n",
        "  print(n)"
      ],
      "metadata": {
        "colab": {
          "base_uri": "https://localhost:8080/"
        },
        "id": "S0h4jikIlK73",
        "outputId": "f4ea0c04-94bf-495a-b2c0-b34d13e95d4d"
      },
      "execution_count": 6,
      "outputs": [
        {
          "output_type": "stream",
          "name": "stdout",
          "text": [
            "0\n",
            "1\n",
            "2\n",
            "3\n",
            "4\n",
            "6\n"
          ]
        }
      ]
    },
    {
      "cell_type": "code",
      "source": [
        "n=0\n",
        "while n<=7:\n",
        "  if n ==3 :\n",
        "    n+=1\n",
        "    continue\n",
        "  print(n)\n",
        "  n+=1\n",
        "else :\n",
        "  print(\"Complete\")"
      ],
      "metadata": {
        "colab": {
          "base_uri": "https://localhost:8080/"
        },
        "id": "xZLfz_UjlMPB",
        "outputId": "1bbcc468-8ba0-45f2-d5bf-cb665e063c23"
      },
      "execution_count": 7,
      "outputs": [
        {
          "output_type": "stream",
          "name": "stdout",
          "text": [
            "0\n",
            "1\n",
            "2\n",
            "4\n",
            "5\n",
            "6\n",
            "7\n",
            "Complete\n"
          ]
        }
      ]
    }
  ]
}