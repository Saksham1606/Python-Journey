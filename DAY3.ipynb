{
  "nbformat": 4,
  "nbformat_minor": 0,
  "metadata": {
    "colab": {
      "provenance": [],
      "authorship_tag": "ABX9TyMLS1/mdxYBzrYT0oJU0gzs",
      "include_colab_link": true
    },
    "kernelspec": {
      "name": "python3",
      "display_name": "Python 3"
    },
    "language_info": {
      "name": "python"
    }
  },
  "cells": [
    {
      "cell_type": "markdown",
      "metadata": {
        "id": "view-in-github",
        "colab_type": "text"
      },
      "source": [
        "<a href=\"https://colab.research.google.com/github/Saksham1606/Python-Journey/blob/main/DAY3.ipynb\" target=\"_parent\"><img src=\"https://colab.research.google.com/assets/colab-badge.svg\" alt=\"Open In Colab\"/></a>"
      ]
    },
    {
      "cell_type": "markdown",
      "source": [
        "# EXPRESSIONS IN PYTHON"
      ],
      "metadata": {
        "id": "r-gCrZP7Vrkb"
      }
    },
    {
      "cell_type": "code",
      "execution_count": null,
      "metadata": {
        "id": "EirEAN7vG25w",
        "colab": {
          "base_uri": "https://localhost:8080/"
        },
        "outputId": "16fdcb85-1c59-43c9-9c1c-5d5c1d344202"
      },
      "outputs": [
        {
          "output_type": "stream",
          "name": "stdout",
          "text": [
            "5\n",
            "-3\n",
            "16\n",
            "5.0\n",
            "5\n",
            "100\n",
            "1\n",
            "\n",
            "\n",
            "False\n",
            "False\n",
            "True\n",
            "False\n",
            "True\n",
            "True\n",
            "\n",
            "\n",
            "False\n",
            "True\n",
            "False\n"
          ]
        }
      ],
      "source": [
        "print(2+3)\n",
        "print (5-8)\n",
        "print (2*8)\n",
        "print( 10/2)\n",
        "print(10//2)\n",
        "print(10**2)\n",
        "print(10%3)\n",
        "\n",
        "print(\"\\n\")\n",
        "a=10\n",
        "b=9\n",
        "print(a==b)\n",
        "print(a<b)\n",
        "print(a>b)\n",
        "print(a<=b)\n",
        "print(a>=b)\n",
        "print(a!=b)\n",
        "\n",
        "print(\"\\n\")\n",
        "x = True\n",
        "y = False\n",
        "print(x and y)\n",
        "print(x or y)\n",
        "print( not x)"
      ]
    },
    {
      "cell_type": "markdown",
      "source": [
        "# STRINGS"
      ],
      "metadata": {
        "id": "4rLQIVv2YmTy"
      }
    },
    {
      "cell_type": "code",
      "source": [
        "str1 = 'hello'\n",
        "str2 = \"hello\"\n",
        "str3 = '''hello'''\n",
        "str4 = \"\"\"hello\"\"\"\n",
        "\n",
        "print(str1)\n",
        "print(str2)\n",
        "print(str3)\n",
        "print(str4)\n",
        "\n",
        "#INDEX\n",
        "\n",
        "name = \"Saksham Rajput\"\n",
        "\n",
        "print(name[0])\n",
        "print(name[1])\n",
        "print(name[-1])\n",
        "print(name[-2])\n",
        "\n",
        "print(\"\\n\")\n",
        "#string slicing\n",
        "\n",
        "print(name[0:3])\n",
        "print(name[8:11])\n",
        "print(name[:5])\n",
        "print(name[5:])\n",
        "print(\"\\n\")\n",
        "print(name[3:14:2])\n",
        "print(name[ : : 2])\n",
        "\n",
        "print(\"\\n\")\n",
        "# string formating\n",
        "first = \"Saksham\"\n",
        "last = \"RAJPUT\"\n",
        "print(\"My firstname is {} and lastname is {}\".format(first,last))\n",
        "\n",
        "print(\"\\n\")\n",
        "#concatenation\n",
        "print(first+\" \"+last)\n",
        "print(first+\"_\"+last)\n",
        "print((last+\" \")* 5)\n",
        "\n",
        "print(\"RAJ\" in last)\n",
        "print(\"RAJ\" in first)\n",
        "print(\"RAJ\" not in first)\n",
        "\n",
        "last = last.lower()                           #lower function\n",
        "print(last)\n",
        "last = last.upper()                           #upper function\n",
        "print(last)\n",
        "name1 = name.strip()                          #strip function\n",
        "print(name1)\n",
        "name2 = name.split()                          #split function\n",
        "print(name2)\n",
        "print(name.find(\"k\"))                         #find function\n",
        "print(name.replace(\"Saksham\" , \"Rohan\"))      #replace function\n",
        "print(name.startswith(\"Saksham\"))             #startswith function\n",
        "print(name.endswith(\"RAJPUT\"))                #endswith function\n",
        "\n"
      ],
      "metadata": {
        "colab": {
          "base_uri": "https://localhost:8080/"
        },
        "id": "9Z0Z_BuqYoNV",
        "outputId": "59a09ba7-ed83-4ffb-867e-f4b1eeb76cb4"
      },
      "execution_count": null,
      "outputs": [
        {
          "output_type": "stream",
          "name": "stdout",
          "text": [
            "hello\n",
            "hello\n",
            "hello\n",
            "hello\n",
            "S\n",
            "a\n",
            "t\n",
            "u\n",
            "\n",
            "\n",
            "Sak\n",
            "Raj\n",
            "Saksh\n",
            "am Rajput\n",
            "\n",
            "\n",
            "sa apt\n",
            "SkhmRju\n",
            "\n",
            "\n",
            "My firstname is Saksham and lastname is RAJPUT\n",
            "\n",
            "\n",
            "Saksham RAJPUT\n",
            "Saksham_RAJPUT\n",
            "RAJPUT RAJPUT RAJPUT RAJPUT RAJPUT \n",
            "True\n",
            "False\n",
            "True\n",
            "rajput\n",
            "RAJPUT\n",
            "Saksham Rajput\n",
            "['Saksham', 'Rajput']\n",
            "2\n",
            "Rohan Rajput\n",
            "True\n",
            "False\n"
          ]
        }
      ]
    },
    {
      "cell_type": "markdown",
      "source": [
        "# LIST"
      ],
      "metadata": {
        "id": "UAm-fsXcjo8J"
      }
    },
    {
      "cell_type": "code",
      "source": [
        "list1 =[124, 'gulabi', 3.145, True]  # heterogenous behaviour\n",
        "print(list1)\n",
        "print(list1[0])\n",
        "print(list1[1])\n",
        "print(list1[2])\n",
        "print(list1[3])\n",
        "\n",
        "list1[1] = 'laal'             # mutable behaviour\n",
        "print(list1)\n",
        "print(list1[1])\n",
        "\n",
        "list2=['laal', 216, 3.14, 'laal', True]   #duplicates allowed\n",
        "print(list2)\n",
        "\n",
        "# Operations in list\n",
        "list1.append('chamcha')      #append function --> add a new element at the end of list\n",
        "print(list1)\n",
        "list1.remove('laal')         #remove function --> remove any element you want\n",
        "print(list1)\n"
      ],
      "metadata": {
        "colab": {
          "base_uri": "https://localhost:8080/"
        },
        "id": "XBZt8H6zjXiD",
        "outputId": "1e094a8f-e7b7-4c1d-8109-c3202afacfd3"
      },
      "execution_count": null,
      "outputs": [
        {
          "output_type": "stream",
          "name": "stdout",
          "text": [
            "[124, 'gulabi', 3.145, True]\n",
            "124\n",
            "gulabi\n",
            "3.145\n",
            "True\n",
            "[124, 'laal', 3.145, True]\n",
            "laal\n",
            "['laal', 216, 3.14, 'laal', True]\n",
            "[124, 'laal', 3.145, True, 'chamcha']\n",
            "[124, 3.145, True, 'chamcha']\n"
          ]
        }
      ]
    },
    {
      "cell_type": "markdown",
      "source": [],
      "metadata": {
        "id": "9cFnbLVudf0L"
      }
    }
  ]
}