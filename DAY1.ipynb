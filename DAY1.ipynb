{
  "nbformat": 4,
  "nbformat_minor": 0,
  "metadata": {
    "colab": {
      "provenance": [],
      "authorship_tag": "ABX9TyNTjUWQ/TeRPWJAy3H/yFdu",
      "include_colab_link": true
    },
    "kernelspec": {
      "name": "python3",
      "display_name": "Python 3"
    },
    "language_info": {
      "name": "python"
    }
  },
  "cells": [
    {
      "cell_type": "markdown",
      "metadata": {
        "id": "view-in-github",
        "colab_type": "text"
      },
      "source": [
        "<a href=\"https://colab.research.google.com/github/Saksham1606/Python-Journey/blob/main/DAY1.ipynb\" target=\"_parent\"><img src=\"https://colab.research.google.com/assets/colab-badge.svg\" alt=\"Open In Colab\"/></a>"
      ]
    },
    {
      "cell_type": "markdown",
      "source": [
        "# how to print any string in python\n"
      ],
      "metadata": {
        "id": "n5adYeob6cZO"
      }
    },
    {
      "cell_type": "code",
      "source": [
        "print('Hello World')"
      ],
      "metadata": {
        "colab": {
          "base_uri": "https://localhost:8080/"
        },
        "id": "4I8S2ytX6mGb",
        "outputId": "f6aeb8d5-9eee-4653-92ee-dc7c645d7dcd"
      },
      "execution_count": null,
      "outputs": [
        {
          "output_type": "stream",
          "name": "stdout",
          "text": [
            "Hello World\n"
          ]
        }
      ]
    },
    {
      "cell_type": "code",
      "source": [
        "print(\"Hello World\")"
      ],
      "metadata": {
        "colab": {
          "base_uri": "https://localhost:8080/"
        },
        "id": "RKg-JXGg60lT",
        "outputId": "903070ef-9fb8-4b6f-fc79-12f3b5910242"
      },
      "execution_count": null,
      "outputs": [
        {
          "output_type": "stream",
          "name": "stdout",
          "text": [
            "Hello World\n"
          ]
        }
      ]
    },
    {
      "cell_type": "code",
      "source": [
        "print('''Hello World''')"
      ],
      "metadata": {
        "colab": {
          "base_uri": "https://localhost:8080/"
        },
        "id": "pgPwvpEz68v2",
        "outputId": "6c3674ef-35eb-4b85-c2ac-446794690171"
      },
      "execution_count": null,
      "outputs": [
        {
          "output_type": "stream",
          "name": "stdout",
          "text": [
            "Hello World\n"
          ]
        }
      ]
    },
    {
      "cell_type": "code",
      "source": [
        "print(\"\"\"Hello World\"\"\")"
      ],
      "metadata": {
        "colab": {
          "base_uri": "https://localhost:8080/"
        },
        "id": "Q53vqdJ17A98",
        "outputId": "ac56aba7-6572-44d0-b5e4-6897c6d98bcd"
      },
      "execution_count": null,
      "outputs": [
        {
          "output_type": "stream",
          "name": "stdout",
          "text": [
            "Hello World\n"
          ]
        }
      ]
    },
    {
      "cell_type": "markdown",
      "source": [
        "# Sum of two numbers"
      ],
      "metadata": {
        "id": "AhvKi1N47S4T"
      }
    },
    {
      "cell_type": "code",
      "source": [
        "a=float(input(\"Enter the first number : \", ))\n",
        "b=float(input(\"Enter the second number : \", ))\n",
        "sum = a+b\n",
        "print(\"The sum of\",a,\"and\",b,\"is\",sum)\n",
        "print (type(sum))"
      ],
      "metadata": {
        "colab": {
          "base_uri": "https://localhost:8080/"
        },
        "id": "AWXlMkQa7eIK",
        "outputId": "71726720-3efb-42b7-a83c-f9246335b420"
      },
      "execution_count": null,
      "outputs": [
        {
          "output_type": "stream",
          "name": "stdout",
          "text": [
            "Enter the first number : 55\n",
            "Enter the second number : 44\n",
            "The sum of 55.0 and 44.0 is 99.0\n",
            "<class 'float'>\n"
          ]
        }
      ]
    },
    {
      "cell_type": "markdown",
      "source": [
        "# Difference of two nummbers"
      ],
      "metadata": {
        "id": "MqVXMQCL73kD"
      }
    },
    {
      "cell_type": "code",
      "source": [
        "a=float(input(\"Enter the first number : \", ))\n",
        "b=float(input(\"Enter the second number : \", ))\n",
        "diff = a-b\n",
        "print(\"The difference of\",a,\"and\",b,\"is\",diff)\n",
        "print(type(diff))"
      ],
      "metadata": {
        "colab": {
          "base_uri": "https://localhost:8080/"
        },
        "id": "EUlz3Feb7mkJ",
        "outputId": "3f58b8e1-4a37-4451-9cb3-855ac9d82cb1"
      },
      "execution_count": null,
      "outputs": [
        {
          "output_type": "stream",
          "name": "stdout",
          "text": [
            "Enter the first number : 99.99\n",
            "Enter the second number : 33.33\n",
            "The difference of 99.99 and 33.33 is 66.66\n"
          ]
        }
      ]
    },
    {
      "cell_type": "markdown",
      "source": [
        "# Multiplication of two numbers"
      ],
      "metadata": {
        "id": "nsZfJNrB8DlB"
      }
    },
    {
      "cell_type": "code",
      "source": [
        "a=float(input(\"Enter the first number : \", ))\n",
        "b=float(input(\"Enter the second number : \", ))\n",
        "product = a*b\n",
        "print(\"The product of\",a,\"and\",b,\"is\",product)\n",
        "print(type(product))"
      ],
      "metadata": {
        "colab": {
          "base_uri": "https://localhost:8080/"
        },
        "id": "lwl5uPPl8I7k",
        "outputId": "84efe18c-b7f8-4489-98b7-7b6e092fb0cf"
      },
      "execution_count": null,
      "outputs": [
        {
          "output_type": "stream",
          "name": "stdout",
          "text": [
            "The product of 5 and 10 is 50\n"
          ]
        }
      ]
    },
    {
      "cell_type": "markdown",
      "source": [
        "# Division of two numbers"
      ],
      "metadata": {
        "id": "4Tp8wCox8N8v"
      }
    },
    {
      "cell_type": "code",
      "source": [
        "a=float(input(\"Enter the first number : \", ))\n",
        "b=float(input(\"Enter the second number : \", ))\n",
        "quotient = a/b\n",
        "print(\"The product of\",a,\"and\",b,\"is\",quotient)\n",
        "print(type(quotient))"
      ],
      "metadata": {
        "colab": {
          "base_uri": "https://localhost:8080/"
        },
        "id": "mh9RdHCO8SSx",
        "outputId": "1e8f3e1b-481b-4db1-d998-abcf4a000d05"
      },
      "execution_count": null,
      "outputs": [
        {
          "output_type": "stream",
          "name": "stdout",
          "text": [
            "The quotient of 125 and 5 is 25.0\n"
          ]
        }
      ]
    },
    {
      "cell_type": "markdown",
      "source": [
        "# Average of three numbers"
      ],
      "metadata": {
        "id": "5gC49wij8Xod"
      }
    },
    {
      "cell_type": "code",
      "source": [
        "a=int(input(\"Enter the first number : \", ))\n",
        "b=int(input(\"Enter the second number : \", ))\n",
        "c=int(input(\"Enter the third number : \", ))\n",
        "avg = (a+b+c)/3\n",
        "print(\"The average of\",a,\",\",b,\"and\",c,\"is\",avg)\n",
        "print(type(avg))"
      ],
      "metadata": {
        "colab": {
          "base_uri": "https://localhost:8080/"
        },
        "id": "z_XU1LZS8avp",
        "outputId": "90ca73a1-416c-40e2-a96e-b297a44c2e87"
      },
      "execution_count": null,
      "outputs": [
        {
          "output_type": "stream",
          "name": "stdout",
          "text": [
            "Enter the first number : 4\n",
            "Enter the second number : 5\n",
            "Enter the third number : 6\n",
            "The average of 4 , 5 and 6 is 5\n",
            "<class 'float'>\n"
          ]
        }
      ]
    },
    {
      "cell_type": "markdown",
      "source": [
        "# Area of a Square"
      ],
      "metadata": {
        "id": "ApBouALzEgj5"
      }
    },
    {
      "cell_type": "code",
      "source": [
        "a = float(input(\"Enter side of a square : \"))\n",
        "area = a*a\n",
        "print(\"The area of square is : \",area)"
      ],
      "metadata": {
        "colab": {
          "base_uri": "https://localhost:8080/"
        },
        "id": "IO07O5J7EkmB",
        "outputId": "ed644850-3623-42f0-bd31-9836d679dddd"
      },
      "execution_count": null,
      "outputs": [
        {
          "output_type": "stream",
          "name": "stdout",
          "text": [
            "Enter side of a square : 5\n",
            "The area of square is :  25.0\n"
          ]
        }
      ]
    },
    {
      "cell_type": "markdown",
      "source": [
        "# Area of a Reactangle"
      ],
      "metadata": {
        "id": "T6wLiwnfE3gF"
      }
    },
    {
      "cell_type": "code",
      "source": [
        "l = float(input(\"Enter length of a reactangle : \"))\n",
        "b = float(input(\"Enter breadth of a reactangle : \"))\n",
        "area = l*b\n",
        "print(\"The area of reactangle is : \",area)"
      ],
      "metadata": {
        "colab": {
          "base_uri": "https://localhost:8080/"
        },
        "id": "BA7XkNkKE6P1",
        "outputId": "93b3c946-5236-41cf-858d-5b1abae9ecd9"
      },
      "execution_count": null,
      "outputs": [
        {
          "output_type": "stream",
          "name": "stdout",
          "text": [
            "Enter length of a reactangle : 10\n",
            "Enter breadth of a reactangle : 5\n",
            "The area of reactangle is :  50.0\n"
          ]
        }
      ]
    },
    {
      "cell_type": "markdown",
      "source": [
        "# Perimeter of a square"
      ],
      "metadata": {
        "id": "1-_DEziYFEsI"
      }
    },
    {
      "cell_type": "code",
      "source": [
        "s = float(input(\"Enter side of a square : \"))\n",
        "perimeter = 4*s\n",
        "print(\"The perimeter of square is : \",perimeter)"
      ],
      "metadata": {
        "colab": {
          "base_uri": "https://localhost:8080/"
        },
        "id": "aVO9OYjzFIoW",
        "outputId": "1b3799b9-4e93-4e53-c35d-bd8969aa6daa"
      },
      "execution_count": null,
      "outputs": [
        {
          "output_type": "stream",
          "name": "stdout",
          "text": [
            "Enter side of a square : 5\n",
            "The perimeter of square is :  20.0\n"
          ]
        }
      ]
    },
    {
      "cell_type": "markdown",
      "source": [
        "# Perimeter of a rectangle"
      ],
      "metadata": {
        "id": "o6NXXnjJFRuN"
      }
    },
    {
      "cell_type": "code",
      "source": [
        "l = float(input(\"Enter length of a reactangle : \"))\n",
        "b = float(input(\"Enter breadth of a reactangle : \"))\n",
        "perimeter = 2*(l+b)\n",
        "print(\"The perimeter of reactangle is : \",perimeter)"
      ],
      "metadata": {
        "colab": {
          "base_uri": "https://localhost:8080/"
        },
        "id": "cx99BmQIFWnE",
        "outputId": "13c72bc8-2630-4a47-f25f-261df0a26127"
      },
      "execution_count": null,
      "outputs": [
        {
          "output_type": "stream",
          "name": "stdout",
          "text": [
            "Enter length of a reactangle : 10\n",
            "Enter breadth of a reactangle : 5\n",
            "The perimeter of reactangle is :  30.0\n"
          ]
        }
      ]
    },
    {
      "cell_type": "markdown",
      "source": [
        "# Area and Circumference of a circle"
      ],
      "metadata": {
        "id": "3zWrQpaXHA0l"
      }
    },
    {
      "cell_type": "code",
      "source": [
        "import math\n",
        "radius = float(input(\"Enter the radius of a circle : \", ))\n",
        "area = math.pi*(radius**2)\n",
        "circumference = 2*math.pi*radius\n",
        "print(f\"The area of circle is :  {area}\")\n",
        "print(\"The circumference of circle is : \",circumference)"
      ],
      "metadata": {
        "colab": {
          "base_uri": "https://localhost:8080/"
        },
        "id": "qnOYtdYBHFH6",
        "outputId": "bbd1a9d7-afb3-42d6-febf-dafb56ee6aeb"
      },
      "execution_count": null,
      "outputs": [
        {
          "output_type": "stream",
          "name": "stdout",
          "text": [
            "Enter the radius of a circle : 5\n",
            "The area of circle is :  78.53981633974483\n",
            "The circumference of circle is :  31.41592653589793\n"
          ]
        }
      ]
    },
    {
      "cell_type": "markdown",
      "source": [
        "# Area of Triangle"
      ],
      "metadata": {
        "id": "Ui_LZrRII5Uc"
      }
    },
    {
      "cell_type": "code",
      "source": [
        "base = int(input(\"Enter the base of triangle : \"))\n",
        "height = int(input(\"Enter the height of triangle : \"))\n",
        "area = (base*height)/2\n",
        "print(\"The area of triangle is : \",area)"
      ],
      "metadata": {
        "colab": {
          "base_uri": "https://localhost:8080/"
        },
        "id": "mGR22nkXI8pW",
        "outputId": "fa66a077-131c-44fc-d782-24a60cc56302"
      },
      "execution_count": null,
      "outputs": [
        {
          "output_type": "stream",
          "name": "stdout",
          "text": [
            "Enter the base of triangle : 5\n",
            "Enter the height of triangle : 12\n",
            "The area of triangle is :  30.0\n"
          ]
        }
      ]
    },
    {
      "cell_type": "markdown",
      "source": [
        "# Swapping of two numbers"
      ],
      "metadata": {
        "id": "9SzHVUq5JqIL"
      }
    },
    {
      "cell_type": "code",
      "source": [
        "a = 10\n",
        "b = 20\n",
        "\n",
        "# using third variable\n",
        "# temp = a\n",
        "# a = b\n",
        "# b = temp\n",
        "# print (\"a =\", a )\n",
        "# print (\"b =\", b )\n",
        "\n",
        "#without using third variable\n",
        "# a,b = b,a\n",
        "# print (\"a =\", a )\n",
        "# print (\"b =\", b )\n",
        "\n",
        "#with using addition and subtraction\n",
        "# a = a+b\n",
        "# b = a-b\n",
        "# a = a-b\n",
        "# print (\"a =\", a )\n",
        "# print (\"b =\", b )"
      ],
      "metadata": {
        "colab": {
          "base_uri": "https://localhost:8080/"
        },
        "id": "pa807LqkJu6S",
        "outputId": "2e7df706-0827-485c-d5b3-3d6974cdf022"
      },
      "execution_count": null,
      "outputs": [
        {
          "output_type": "stream",
          "name": "stdout",
          "text": [
            "a = 20\n",
            "b = 10\n",
            "10\n"
          ]
        }
      ]
    },
    {
      "cell_type": "markdown",
      "source": [
        "# convert temperature into celsius"
      ],
      "metadata": {
        "id": "o3RflFW2_Isg"
      }
    },
    {
      "cell_type": "code",
      "source": [
        "a = float(input(\"Enter the temperature : \", ))\n",
        "b = (a-32)*5/9\n",
        "print(\"The given temperature in celsius is : \",b)"
      ],
      "metadata": {
        "id": "VeenQfz1DBBJ"
      },
      "execution_count": null,
      "outputs": []
    }
  ]
}