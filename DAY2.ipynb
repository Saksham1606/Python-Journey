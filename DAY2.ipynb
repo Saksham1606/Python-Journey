{
  "nbformat": 4,
  "nbformat_minor": 0,
  "metadata": {
    "colab": {
      "provenance": [],
      "authorship_tag": "ABX9TyNFnGZJR4lnba/tXTZBL3gx",
      "include_colab_link": true
    },
    "kernelspec": {
      "name": "python3",
      "display_name": "Python 3"
    },
    "language_info": {
      "name": "python"
    }
  },
  "cells": [
    {
      "cell_type": "markdown",
      "metadata": {
        "id": "view-in-github",
        "colab_type": "text"
      },
      "source": [
        "<a href=\"https://colab.research.google.com/github/Saksham1606/Python-Journey/blob/main/DAY2.ipynb\" target=\"_parent\"><img src=\"https://colab.research.google.com/assets/colab-badge.svg\" alt=\"Open In Colab\"/></a>"
      ]
    },
    {
      "cell_type": "markdown",
      "source": [
        "# Diff ways to use print and Diff Parameters"
      ],
      "metadata": {
        "id": "wwGCtC9zDx3Y"
      }
    },
    {
      "cell_type": "code",
      "source": [
        "print (\"Hello World\")"
      ],
      "metadata": {
        "colab": {
          "base_uri": "https://localhost:8080/"
        },
        "id": "hPgUcVTKD4kR",
        "outputId": "595d8612-5420-405b-9a8a-1d663917a27b"
      },
      "execution_count": null,
      "outputs": [
        {
          "output_type": "stream",
          "name": "stdout",
          "text": [
            "Hello World\n"
          ]
        }
      ]
    },
    {
      "cell_type": "code",
      "source": [
        "name = \"Saksham\"\n",
        "age = 18\n",
        "print(name)\n",
        "print (age)"
      ],
      "metadata": {
        "colab": {
          "base_uri": "https://localhost:8080/"
        },
        "id": "22GF9WbyFM0m",
        "outputId": "b1371366-0153-4e41-f6b1-2e9ccac1c729"
      },
      "execution_count": null,
      "outputs": [
        {
          "output_type": "stream",
          "name": "stdout",
          "text": [
            "Saksham\n",
            "18\n"
          ]
        }
      ]
    },
    {
      "cell_type": "code",
      "source": [
        "name = \"Saksham\"\n",
        "age = 18\n",
        "print('Name :',name,\",\", 'Age :',age)"
      ],
      "metadata": {
        "colab": {
          "base_uri": "https://localhost:8080/"
        },
        "id": "FCP1EJ7fFPLp",
        "outputId": "aee394ef-0cfd-4848-8a7c-bdeb7c9df7d6"
      },
      "execution_count": null,
      "outputs": [
        {
          "output_type": "stream",
          "name": "stdout",
          "text": [
            "Name : Saksham , Age : 18\n"
          ]
        }
      ]
    },
    {
      "cell_type": "code",
      "source": [
        "# using f string\n",
        "name = 'Saksham'\n",
        "age = 18\n",
        "print(f\"Name : {name} , Age : {age}\")"
      ],
      "metadata": {
        "colab": {
          "base_uri": "https://localhost:8080/"
        },
        "id": "kw4bIoIXFasX",
        "outputId": "0f13ef56-467a-4cfb-a8ac-82b5bb76e899"
      },
      "execution_count": null,
      "outputs": [
        {
          "output_type": "stream",
          "name": "stdout",
          "text": [
            "Name : Saksham , Age : 18\n"
          ]
        }
      ]
    },
    {
      "cell_type": "code",
      "source": [
        "# using format() method\n",
        "name = 'Saksham'\n",
        "age = 18\n",
        "print(\"Name : {}, Age : {}\".format(name,age))"
      ],
      "metadata": {
        "colab": {
          "base_uri": "https://localhost:8080/"
        },
        "id": "sd1BcYZJF3t4",
        "outputId": "a0175d9f-1d60-4818-aa2b-83b1da937e65"
      },
      "execution_count": null,
      "outputs": [
        {
          "output_type": "stream",
          "name": "stdout",
          "text": [
            "Name : Saksham, Age : 18\n"
          ]
        }
      ]
    },
    {
      "cell_type": "code",
      "source": [
        "# printing formatted numbers OR round-off float\n",
        "num = 1234.56789\n",
        "print(f\"Formated number : {num:.2f}\")"
      ],
      "metadata": {
        "colab": {
          "base_uri": "https://localhost:8080/"
        },
        "id": "FOGFBzTDGZrb",
        "outputId": "49669c4a-f2fb-4fc1-ec25-335909e126c7"
      },
      "execution_count": null,
      "outputs": [
        {
          "output_type": "stream",
          "name": "stdout",
          "text": [
            "Formated number : 1234.57\n"
          ]
        }
      ]
    },
    {
      "cell_type": "code",
      "source": [
        "# using string concatenation\n",
        "name = \"Saksham\"\n",
        "print(\"Hello, \"+ name + \"!\")"
      ],
      "metadata": {
        "colab": {
          "base_uri": "https://localhost:8080/"
        },
        "id": "wUdr3J-uHfAk",
        "outputId": "211250fa-84d2-4819-fdf6-4ab4c71449db"
      },
      "execution_count": null,
      "outputs": [
        {
          "output_type": "stream",
          "name": "stdout",
          "text": [
            "Hello, Saksham!\n"
          ]
        }
      ]
    },
    {
      "cell_type": "code",
      "source": [
        "# using sep parameter\n",
        "print(\"NIET\",\"GreaterNoida\",\"UttarPradesh\",\"INDIA\",sep=\"--\")"
      ],
      "metadata": {
        "colab": {
          "base_uri": "https://localhost:8080/"
        },
        "id": "p_8lfWL-Hz1O",
        "outputId": "b08f6c4c-b4d9-48c7-9700-4f1d947a67e5"
      },
      "execution_count": null,
      "outputs": [
        {
          "output_type": "stream",
          "name": "stdout",
          "text": [
            "NIET--GreaterNoida--UttarPradesh--INDIA\n"
          ]
        }
      ]
    },
    {
      "cell_type": "code",
      "source": [
        "# using end parameter\n",
        "print(\"Hello\", end=\"-\")\n",
        "print(\"World\")"
      ],
      "metadata": {
        "colab": {
          "base_uri": "https://localhost:8080/"
        },
        "id": "_miFFanZIgXM",
        "outputId": "cef997fb-93a9-4124-f8be-067fd9384650"
      },
      "execution_count": null,
      "outputs": [
        {
          "output_type": "stream",
          "name": "stdout",
          "text": [
            "Hello-World\n"
          ]
        }
      ]
    },
    {
      "cell_type": "code",
      "source": [
        "# new line parameter (\\n)\n",
        "print(\"Line1\\nLine2\")"
      ],
      "metadata": {
        "colab": {
          "base_uri": "https://localhost:8080/"
        },
        "id": "BjdIRzgkI4I6",
        "outputId": "7c95efb8-fa75-4652-b84d-9c8a1014cad5"
      },
      "execution_count": null,
      "outputs": [
        {
          "output_type": "stream",
          "name": "stdout",
          "text": [
            "Line1 \n",
            "Line2\n"
          ]
        }
      ]
    },
    {
      "cell_type": "code",
      "source": [
        "# space parameter (\\t)\n",
        "print(\"Saksham\\tRAJPUT\")"
      ],
      "metadata": {
        "colab": {
          "base_uri": "https://localhost:8080/"
        },
        "id": "13vXa7uWJfd4",
        "outputId": "1499e047-394f-4b7a-f56d-45da71db8448"
      },
      "execution_count": null,
      "outputs": [
        {
          "output_type": "stream",
          "name": "stdout",
          "text": [
            "Saksham\tRAJPUT\n"
          ]
        }
      ]
    },
    {
      "cell_type": "markdown",
      "source": [
        "# IDENTIFIERS"
      ],
      "metadata": {
        "id": "gY29ZA0hRlQc"
      }
    },
    {
      "cell_type": "markdown",
      "source": [
        "->variables are called Identifiers.\n",
        "\n",
        "  points to rememer:\n",
        "  1. cannot begin with integer(1,5,56).\n",
        "  2. cannot introduce special characters(!,@,#,%).\n",
        "  3. cannot use reserved keywords.\n",
        "  4. cannot introduce hyphen(-), dot(.), brackets, +, -, *, /."
      ],
      "metadata": {
        "id": "Ek4gynNWS2NU"
      }
    },
    {
      "cell_type": "markdown",
      "source": [
        "# DATA TYPES"
      ],
      "metadata": {
        "id": "GDpbx734Xi5k"
      }
    },
    {
      "cell_type": "markdown",
      "source": [
        "1. numeric : int, float, complex.\n",
        "2. text : string .\n",
        "3. Boolean : bool.\n",
        "4. Sequence : list, tuple, range.\n",
        "5. Mapping : dict.\n",
        "6. Set Types : set, frozenset.\n",
        "7. none type : nonetype."
      ],
      "metadata": {
        "id": "jDnTQXjIXmbX"
      }
    },
    {
      "cell_type": "code",
      "source": [
        "# numeric datatypes\n",
        "a= 15\n",
        "b= 15.268\n",
        "c= 2+4j\n",
        "\n",
        "print(\"The datatype of a\",type(a))\n",
        "print(\"The datatype of b\",type(b))\n",
        "print(\"The datatype of c\",type(c))\n",
        "\n",
        "#text datatype\n",
        "x = \"bsdjhcsjh\"\n",
        "print(\"The datatype of x\",type(x))\n",
        "\n",
        "# boolean datatype\n",
        "answer = True\n",
        "print(\"The datatype of answer\",type(answer))\n",
        "\n",
        "# sequence datatype\n",
        "my_list = [1,23,453,34]\n",
        "print(\"The datatype of my_list is\",type(my_list))\n",
        "my_tuple= (121,2323,2323,31,464)\n",
        "print(\"The datatype of my_tuple is\",type(my_tuple))\n",
        "my_range = range(11)\n",
        "print(\"The datatype of my_range is\",type(my_range))\n",
        "\n",
        "# mapping datatype\n",
        "my_dict = {\"Name \":\"Saksham Rajput\",\n",
        "           \"Age \": 18,\n",
        "           \"College \": \"NIET\"}\n",
        "print(\"The datatype of my_dict is\",type(my_dict))\n",
        "\n",
        "# set datatypes\n",
        "my_set = {1,2,3,4,5}\n",
        "print(\"The datatype of my_set is\",type(my_set))\n",
        "my_frozenset = frozenset([1,2,3,4,5])\n",
        "print(\"The datatype of my_frozenset is\",type(my_frozenset))\n",
        "\n",
        "# none datatype\n",
        "nothing = None\n",
        "print(\"The datatype of nothing is\",type(nothing))"
      ],
      "metadata": {
        "colab": {
          "base_uri": "https://localhost:8080/"
        },
        "id": "0Nl1S0JDTlmC",
        "outputId": "660cec4b-847d-480f-9b4b-5bac2fc5fe05"
      },
      "execution_count": null,
      "outputs": [
        {
          "output_type": "stream",
          "name": "stdout",
          "text": [
            "The datatype of a <class 'int'>\n",
            "The datatype of b <class 'float'>\n",
            "The datatype of c <class 'complex'>\n",
            "The datatype of x <class 'str'>\n",
            "The datatype of answer <class 'bool'>\n",
            "The datatype of my_list is <class 'list'>\n",
            "The datatype of my_tuple is <class 'tuple'>\n",
            "The datatype of my_range is <class 'range'>\n",
            "The datatype of my_dict is <class 'dict'>\n",
            "The datatype of my_set is <class 'set'>\n",
            "The datatype of my_frozenset is <class 'frozenset'>\n",
            "The datatype of nothing is <class 'NoneType'>\n"
          ]
        }
      ]
    },
    {
      "cell_type": "markdown",
      "source": [
        "# Datatype Conversion"
      ],
      "metadata": {
        "id": "6ugSRsFYcxtw"
      }
    },
    {
      "cell_type": "markdown",
      "source": [
        "there are 2 types of conversion:\n",
        "1. Implicit Conversion (Automatic).\n",
        "2. Explicit conversion (Manually)."
      ],
      "metadata": {
        "id": "l2Hu6NPrdWTF"
      }
    },
    {
      "cell_type": "code",
      "source": [
        "# Implicit conversion\n",
        "a= 5    #int\n",
        "b= 15.2 #float\n",
        "sum = a+b   # int + float = float\n",
        "print(type(sum))  #it results in float\n",
        "\n",
        "#Explicit conversion\n",
        "x= \"15\"      #string\n",
        "y = int(x)   #int\n",
        "print(type(y))   #it results in integer."
      ],
      "metadata": {
        "colab": {
          "base_uri": "https://localhost:8080/"
        },
        "id": "llQEHUnLc1Be",
        "outputId": "d619fe9b-0bd0-460f-a10e-b6c8012e8daf"
      },
      "execution_count": null,
      "outputs": [
        {
          "output_type": "stream",
          "name": "stdout",
          "text": [
            "<class 'float'>\n",
            "<class 'float'>\n"
          ]
        }
      ]
    },
    {
      "cell_type": "markdown",
      "source": [
        "# OPERATORS"
      ],
      "metadata": {
        "id": "XPs8gEIWfIXs"
      }
    },
    {
      "cell_type": "markdown",
      "source": [
        "types of operator:\n",
        "1. Arithmetic operator.\n",
        "2. Relational (Comparison) operator.\n",
        "3. Assignment operator.\n",
        "4. Logical operator.\n",
        "5. Bitwise operator.\n",
        "6. Membership operator.\n",
        "7. Identity operator."
      ],
      "metadata": {
        "id": "z5Ik6ynifP81"
      }
    },
    {
      "cell_type": "code",
      "source": [
        "# ARITHMETIC OPERATOR\n",
        "\n",
        "a = 10\n",
        "b = 5\n",
        "\n",
        "#Addition\n",
        "print (a+b)\n",
        "print(\"The datatype  of addition is\", type(a+b))\n",
        "\n",
        "#Substraction\n",
        "print (a-b)\n",
        "print(\"The datatype  of substraction is\", type(a-b))\n",
        "\n",
        "#Multiplication\n",
        "print(a*b)\n",
        "print(\"The datatype  of multiplication is\", type(a*b))\n",
        "\n",
        "#Division\n",
        "print(a/b)\n",
        "print(\"The datatype  of division is\", type(a/b))  #float\n",
        "print(a//b)\n",
        "print(\"The datatype  of division is\", type(a//b))  #int\n",
        "\n",
        "#Remainder\n",
        "print (a%b)\n",
        "print(\"The datatype  of remainder is\", type(a%b))\n",
        "\n",
        "#Power\n",
        "print (a**b)\n",
        "print(\"The datatype  of power is\", type(a**b))"
      ],
      "metadata": {
        "colab": {
          "base_uri": "https://localhost:8080/"
        },
        "id": "VMlOMtOdgwy7",
        "outputId": "471d26b4-6e5e-4252-f788-85215b60845d"
      },
      "execution_count": null,
      "outputs": [
        {
          "output_type": "stream",
          "name": "stdout",
          "text": [
            "15\n",
            "The datatype  of addition is <class 'int'>\n",
            "5\n",
            "The datatype  of substraction is <class 'int'>\n",
            "50\n",
            "The datatype  of multiplication is <class 'int'>\n",
            "2.0\n",
            "The datatype  of division is <class 'float'>\n",
            "2\n",
            "The datatype  of division is <class 'int'>\n",
            "0\n",
            "The datatype  of remainder is <class 'int'>\n",
            "100000\n",
            "The datatype  of power is <class 'int'>\n"
          ]
        }
      ]
    },
    {
      "cell_type": "code",
      "source": [
        "# RELATIONAL OPERATOR\n",
        "\n",
        "x = 5\n",
        "y = 2\n",
        "\n",
        "# less than\n",
        "print(x<y)   #5<2 -- false\n",
        "\n",
        "# greater than\n",
        "print(x>y)   #5>2 -- true\n",
        "\n",
        "# less than or equal to\n",
        "print(x<=y)  #5<=2  -- false\n",
        "\n",
        "# greater than or equal to\n",
        "print(x>=y)  #5>=2  -- true\n",
        "\n",
        "# equal to\n",
        "print (x==y)   #5=2  -- false\n",
        "\n",
        "# not equal to\n",
        "print(x!=y)   #5!=2  -- true"
      ],
      "metadata": {
        "colab": {
          "base_uri": "https://localhost:8080/"
        },
        "id": "VVtq2EASj0WA",
        "outputId": "609111ef-5f2a-4b74-f0b1-3198276fb1e9"
      },
      "execution_count": null,
      "outputs": [
        {
          "output_type": "stream",
          "name": "stdout",
          "text": [
            "False\n",
            "True\n",
            "False\n",
            "True\n",
            "False\n",
            "True\n"
          ]
        }
      ]
    },
    {
      "cell_type": "code",
      "source": [
        "# LOGICAL OPERATOR --> and,or,not\n",
        "\n",
        "a= True\n",
        "b= False\n",
        "\n",
        "print(a and b)   #False\n",
        "print(a or b)    #True\n",
        "print(not a)     #False\n",
        "print(not b)     #True"
      ],
      "metadata": {
        "colab": {
          "base_uri": "https://localhost:8080/"
        },
        "id": "7gFYGyQlFhJI",
        "outputId": "7d8536d9-5e55-4fea-e3f3-0b13247e2caf"
      },
      "execution_count": null,
      "outputs": [
        {
          "output_type": "stream",
          "name": "stdout",
          "text": [
            "False\n",
            "True\n",
            "False\n",
            "True\n"
          ]
        }
      ]
    },
    {
      "cell_type": "code",
      "source": [
        "# ASSIGNMENT OPERATOR   -->  =, +=, -=, *=, /=, %=, **=, //=.\n",
        "\n",
        "'''\n",
        "= --> assigning value\n",
        "+= -->  a+=b <==> a=a+b\n",
        "-= -->  a-=b <==> a=a-b\n",
        "*= -->  a*=b <==> a=a*b\n",
        "/= -->  a/=b <==> a=a/b\n",
        "%= -->  a%=b <==> a=a%b\n",
        "**= --> a**=b <==> a=a**b\n",
        "--= --> a//=b <==> a=a//b\n",
        "                          '''\n",
        "\n",
        "a=10\n",
        "\n",
        "print(\"The value of a is:\",a)              #a=10\n",
        "\n",
        "a+=5\n",
        "print(\"The value of a+=5 is:\",a)           #a=10+5=15\n",
        "\n",
        "a-=5\n",
        "print(\"The value of a-=5 is:\",a)          #a=15-5=10\n",
        "\n",
        "a*=5\n",
        "print (\"The value of a*=5 is:\",a)         #a=10*5=50\n",
        "\n",
        "a/=5\n",
        "print (\"The value of a/=5 is:\",a)         #a=50/5=10.0\n",
        "\n",
        "a//=5\n",
        "print (\"The value of a//=5 is:\",a)        #a=10.0//5=2\n",
        "\n",
        "a%=5\n",
        "print (\"The value of a%=5 is:\",a)         #a=2%5=2\n",
        "\n",
        "a**=5\n",
        "print (\"The value of a**=5 is:\",a)        #a=0**5=32\n"
      ],
      "metadata": {
        "colab": {
          "base_uri": "https://localhost:8080/"
        },
        "id": "DGE2KQovG2L_",
        "outputId": "523ff0cf-8f84-417b-dcf0-508e6e509a1a"
      },
      "execution_count": null,
      "outputs": [
        {
          "output_type": "stream",
          "name": "stdout",
          "text": [
            "The value of a is: 10\n",
            "The value of a+=5 is: 15\n",
            "The value of a-=5 is: 10\n",
            "The value of a*=5 is: 50\n",
            "The value of a/=5 is: 10.0\n",
            "The value of a//=5 is: 2.0\n",
            "The value of a%=5 is: 2.0\n",
            "The value of a**=5 is: 32.0\n"
          ]
        }
      ]
    },
    {
      "cell_type": "code",
      "source": [
        "# MEMBERSHIP OPERATOR   --> in, not in.\n",
        "\n",
        "list1 = [1,2,3,4,7]\n",
        "\n",
        "print (2 in list1)\n",
        "print (5 in list1)\n",
        "\n",
        "print (2 not in list1)\n",
        "print (5 not in list1)\n",
        "\n",
        "print(\"\\n\")\n",
        "\n",
        "dict1 = {\n",
        "    \"Name\" : \"Saksham\",\n",
        "    \"Age\" : 19\n",
        "}\n",
        "print(\"Saksham\" in dict1)\n",
        "print(\"Name\" in dict1)\n",
        "print(\"Age\" not in dict1)"
      ],
      "metadata": {
        "colab": {
          "base_uri": "https://localhost:8080/"
        },
        "id": "-QpfgW3pOdda",
        "outputId": "72b69689-7aee-41f7-a0d5-d2a4a0f20d5f"
      },
      "execution_count": null,
      "outputs": [
        {
          "output_type": "stream",
          "name": "stdout",
          "text": [
            "True\n",
            "False\n",
            "False\n",
            "True\n",
            "\n",
            "\n",
            "False\n",
            "True\n",
            "False\n"
          ]
        }
      ]
    },
    {
      "cell_type": "code",
      "source": [
        "# IDENTITY OPERATOR   --> is, is not\n",
        "\n",
        "a = 5\n",
        "b = 5\n",
        "\n",
        "print(a is b)\n",
        "print (a is not b)\n",
        "\n",
        "set1 = {1,5,9}\n",
        "set2 = {0,2,4,1}\n",
        "\n",
        "print(set1 is set2)\n",
        "print(set1 is not set2)\n",
        "\n",
        "list1 = [1,2]\n",
        "list2 = list1\n",
        "print(list1 is list2)"
      ],
      "metadata": {
        "colab": {
          "base_uri": "https://localhost:8080/"
        },
        "id": "09HFLmyTRgDn",
        "outputId": "0c944b71-2704-485b-d1d8-5407e8d41a24"
      },
      "execution_count": null,
      "outputs": [
        {
          "output_type": "stream",
          "name": "stdout",
          "text": [
            "True\n",
            "False\n",
            "False\n",
            "True\n",
            "True\n"
          ]
        }
      ]
    },
    {
      "cell_type": "code",
      "source": [
        "# SPECIAL OPERATOR\n",
        "\n",
        "a=10\n",
        "b=20\n",
        "\n",
        "print(\"a is greater\" if a>b else \"b is greater\")"
      ],
      "metadata": {
        "colab": {
          "base_uri": "https://localhost:8080/"
        },
        "id": "HiY4wRHSYDfQ",
        "outputId": "3b5e4063-ad40-4d95-d870-3075d9f3c0c1"
      },
      "execution_count": null,
      "outputs": [
        {
          "output_type": "stream",
          "name": "stdout",
          "text": [
            "b is greater\n"
          ]
        }
      ]
    },
    {
      "cell_type": "code",
      "source": [
        "# BITWISE OPERATOR\n",
        "\n",
        "x = 5  #5 --> 0101\n",
        "y = 3  #3 --> 0011\n",
        "\n",
        "print(x&y)  # x X y => 0001 --> 1\n",
        "print(x|y)  # x + y => 0111 --> 7\n",
        "print(~x)   # x' => 1010 -->\n",
        "print(x^y)  # x xor y => 0110 --> 6\n",
        "print(x<<2) # x<<2 = 0101<<2 = 01 -->\n",
        "print(x>>2) # x>>2 =\n",
        "\n"
      ],
      "metadata": {
        "colab": {
          "base_uri": "https://localhost:8080/"
        },
        "id": "bxg7biysK46p",
        "outputId": "306de383-9b2f-413a-a5bc-98919b554a71"
      },
      "execution_count": null,
      "outputs": [
        {
          "output_type": "stream",
          "name": "stdout",
          "text": [
            "1\n",
            "7\n",
            "-6\n",
            "6\n",
            "20\n",
            "1\n",
            "512\n"
          ]
        }
      ]
    },
    {
      "cell_type": "code",
      "source": [
        "# OPERATOR PRECEDENCE AND ASSOCIATIVITY\n",
        "\n",
        "a = 3+2*2**2\n",
        "print (a)\n",
        "\n",
        "b = (3+2)*2**2\n",
        "print (b)\n",
        "\n",
        "c = 10+5-2\n",
        "print (c)\n",
        "\n",
        "d = 2**3**2\n",
        "print (d)"
      ],
      "metadata": {
        "colab": {
          "base_uri": "https://localhost:8080/"
        },
        "id": "UekOqpLkTfSs",
        "outputId": "971a7028-e0dc-4974-dab2-6e8e473b2032"
      },
      "execution_count": null,
      "outputs": [
        {
          "output_type": "stream",
          "name": "stdout",
          "text": [
            "11\n",
            "20\n",
            "13\n",
            "512\n"
          ]
        }
      ]
    }
  ]
}